{
  "cells": [
    {
      "metadata": {
        "_cell_guid": "b1076dfc-b9ad-4769-8c92-a6c4dae69d19",
        "_uuid": "8f2839f25d086af736a60e9eeb907d3b93b6e0e5",
        "trusted": true
      },
      "cell_type": "code",
      "source": "import pandas as pd\nimport numpy as np\nimport sklearn as sk\nfrom sklearn.learning_curve import learning_curve\nfrom sklearn.metrics import explained_variance_score, make_scorer\nfrom sklearn.cross_validation import KFold\nfrom sklearn.metrics import accuracy_score\nfrom sklearn.model_selection import train_test_split\nfrom sklearn import metrics, datasets\nfrom sklearn.ensemble import RandomForestRegressor\nfrom sklearn.linear_model import LogisticRegression\nfrom sklearn.datasets import make_regression\nimport matplotlib.pyplot as plt\nimport matplotlib.patches as mpatches\nfrom sklearn.externals import joblib",
      "execution_count": 24,
      "outputs": []
    },
    {
      "metadata": {
        "_cell_guid": "79c7e3d0-c299-4dcb-8224-4455121ee9b0",
        "_uuid": "d629ff2d2480ee46fbb7e2d37f6b5fab8052498a",
        "trusted": true
      },
      "cell_type": "code",
      "source": "data = pd.read_csv(\"austin_final.csv\")\nY_temp = data['PrecipitationSumInches']\nX = data.drop(['PrecipitationSumInches'], axis=1,inplace=True)\nY_temp = Y_temp.values.reshape(-1, 1)",
      "execution_count": 25,
      "outputs": []
    },
    {
      "metadata": {
        "_uuid": "db25841936dd018789e60d3f124aea8454571d1f",
        "trusted": true
      },
      "cell_type": "code",
      "source": "for i in range(Y_temp.size):\n    if(Y_temp[i]<0.001):\n        Y_temp[i]=1\n       # x1.loc[i] = X.loc[i]\n    elif(Y_temp[i]>=0.001 and Y_temp[i]<0.1):\n        Y_temp[i]=2\n       # x2.loc[i] = X.loc[i]\n    elif(Y_temp[i]>=0.1 and Y_temp[i]<1.2):\n        Y_temp[i]=3\n        #x3.loc[i] = X.loc[i]\n    else:\n        Y_temp[i]=4\n       # x4.loc[i] = X.loc[i]\n\nY = np.array(Y)#.reshape(len(Y), )\nX_train, X_test, y_train, y_test = train_test_split(data, Y_temp, test_size=0.2,shuffle=True)\nprint(X_train.shape, y_train.shape)\nprint(X_test.shape, y_test.shape)",
      "execution_count": 26,
      "outputs": [
        {
          "output_type": "stream",
          "text": "(1044, 16) (1044, 1)\n(261, 16) (261, 1)\n",
          "name": "stdout"
        }
      ]
    },
    {
      "metadata": {
        "_uuid": "fe0e8afe481ff54b3227abbfecec7a6c0718b1ee",
        "trusted": true
      },
      "cell_type": "code",
      "source": "logr = LogisticRegression(multi_class='ovr', solver='liblinear').fit(X_train, y_train)\n#logr = MLPClassifier(solver='lbfgs', alpha=1e-5,hidden_layer_sizes=(5,2), random_state=1).fit(X_train,y_train)\n#logr = RandomForestRegressor(max_depth=2, random_state=0,n_estimators=30).fit(X_train,y_train)\nprint(\"TRAIN ACCURACY\",logr.score(X_train,y_train))\n\"\"\"\ntrain_sizes, train_scores, test_scores = learning_curve(logr, X_train, y_train, n_jobs=-1,train_sizes=np.linspace(.1, 1.0, 5), verbose=0)\ntrain_scores_mean = np.mean(train_scores, axis=1)\ntrain_scores_std = np.std(train_scores, axis=1)\ntest_scores_mean = np.mean(test_scores, axis=1)\ntest_scores_std = np.std(test_scores, axis=1)    \nplt.figure()\nplt.title(\"RandomForestClassifier\")\nplt.legend(loc=\"best\")\nplt.xlabel(\"Training examples\")\nplt.ylabel(\"Score\")\nplt.gca().invert_yaxis()\n # box-like grid\nplt.grid()\n# plot the std deviation as a transparent range at each training set size\nplt.fill_between(train_sizes, train_scores_mean - train_scores_std, train_scores_mean + train_scores_std, alpha=0.1, color=\"r\")\nplt.fill_between(train_sizes, test_scores_mean - test_scores_std, test_scores_mean + test_scores_std, alpha=0.1, color=\"g\")    \n# plot the average training and test score lines at each training set size\nplt.plot(train_sizes, train_scores_mean, 'o-', color=\"r\", label=\"Training score\")\nplt.plot(train_sizes, test_scores_mean, 'o-', color=\"g\", label=\"Cross-validation score\")\n# sizes the window for readability and displays the plot\n# shows error from 0 to 1.1\nplt.ylim(-.1,1.1)\nplt.show()\n\"\"\"\npredictions=logr.predict(X_test)\nclasses = ['None', 'No Rain', 'Drizzles', 'Moderate Rains', 'Heavy Rains']\nfor i in range(len(predictions)):\n           print(classes[int(predictions[i])])\nplt.scatter(y_test, predictions)\nprint(\"TEST ACCURACY\",logr.score(X_test,y_test))\nplt.xlabel(\"True Predict\")\nplt.ylabel(\"Prediction\")\n#print(accuracy_score(y_train, , normalize=True, sample_weight=None))",
      "execution_count": 28,
      "outputs": [
        {
          "output_type": "stream",
          "text": "/home/nbuser/anaconda3_420/lib/python3.5/site-packages/sklearn/utils/validation.py:578: DataConversionWarning: A column-vector y was passed when a 1d array was expected. Please change the shape of y to (n_samples, ), for example using ravel().\n  y = column_or_1d(y, warn=True)\n",
          "name": "stderr"
        },
        {
          "output_type": "stream",
          "text": "TRAIN ACCURACY 0.7586206896551724\nDrizzles\nNo Rain\nNo Rain\nNo Rain\nNo Rain\nModerate Rains\nNo Rain\nNo Rain\nNo Rain\nNo Rain\nNo Rain\nNo Rain\nNo Rain\nModerate Rains\nNo Rain\nNo Rain\nDrizzles\nNo Rain\nNo Rain\nNo Rain\nNo Rain\nNo Rain\nDrizzles\nNo Rain\nNo Rain\nNo Rain\nNo Rain\nModerate Rains\nNo Rain\nNo Rain\nNo Rain\nNo Rain\nModerate Rains\nNo Rain\nNo Rain\nNo Rain\nNo Rain\nDrizzles\nHeavy Rains\nNo Rain\nNo Rain\nModerate Rains\nDrizzles\nNo Rain\nNo Rain\nNo Rain\nNo Rain\nDrizzles\nNo Rain\nNo Rain\nNo Rain\nNo Rain\nModerate Rains\nNo Rain\nNo Rain\nNo Rain\nNo Rain\nNo Rain\nNo Rain\nDrizzles\nNo Rain\nNo Rain\nNo Rain\nNo Rain\nNo Rain\nNo Rain\nNo Rain\nNo Rain\nNo Rain\nDrizzles\nDrizzles\nNo Rain\nNo Rain\nModerate Rains\nNo Rain\nNo Rain\nNo Rain\nModerate Rains\nModerate Rains\nDrizzles\nNo Rain\nNo Rain\nNo Rain\nNo Rain\nModerate Rains\nNo Rain\nNo Rain\nModerate Rains\nNo Rain\nNo Rain\nNo Rain\nModerate Rains\nNo Rain\nNo Rain\nNo Rain\nNo Rain\nNo Rain\nHeavy Rains\nModerate Rains\nDrizzles\nNo Rain\nNo Rain\nNo Rain\nNo Rain\nNo Rain\nNo Rain\nNo Rain\nDrizzles\nModerate Rains\nNo Rain\nHeavy Rains\nNo Rain\nNo Rain\nNo Rain\nNo Rain\nNo Rain\nNo Rain\nNo Rain\nNo Rain\nHeavy Rains\nNo Rain\nNo Rain\nNo Rain\nNo Rain\nModerate Rains\nNo Rain\nNo Rain\nNo Rain\nModerate Rains\nNo Rain\nNo Rain\nNo Rain\nDrizzles\nModerate Rains\nNo Rain\nNo Rain\nNo Rain\nNo Rain\nNo Rain\nNo Rain\nNo Rain\nNo Rain\nModerate Rains\nNo Rain\nNo Rain\nNo Rain\nNo Rain\nNo Rain\nNo Rain\nNo Rain\nNo Rain\nDrizzles\nNo Rain\nHeavy Rains\nNo Rain\nNo Rain\nNo Rain\nModerate Rains\nNo Rain\nNo Rain\nDrizzles\nNo Rain\nNo Rain\nNo Rain\nModerate Rains\nNo Rain\nNo Rain\nNo Rain\nNo Rain\nDrizzles\nModerate Rains\nModerate Rains\nDrizzles\nNo Rain\nNo Rain\nModerate Rains\nNo Rain\nNo Rain\nNo Rain\nNo Rain\nNo Rain\nNo Rain\nNo Rain\nNo Rain\nNo Rain\nNo Rain\nNo Rain\nNo Rain\nNo Rain\nNo Rain\nNo Rain\nNo Rain\nNo Rain\nNo Rain\nNo Rain\nNo Rain\nDrizzles\nNo Rain\nDrizzles\nNo Rain\nNo Rain\nNo Rain\nNo Rain\nModerate Rains\nNo Rain\nNo Rain\nNo Rain\nDrizzles\nNo Rain\nNo Rain\nNo Rain\nDrizzles\nNo Rain\nNo Rain\nDrizzles\nNo Rain\nNo Rain\nNo Rain\nNo Rain\nNo Rain\nDrizzles\nNo Rain\nNo Rain\nNo Rain\nNo Rain\nNo Rain\nNo Rain\nNo Rain\nDrizzles\nNo Rain\nNo Rain\nNo Rain\nNo Rain\nNo Rain\nDrizzles\nDrizzles\nNo Rain\nNo Rain\nDrizzles\nModerate Rains\nNo Rain\nNo Rain\nNo Rain\nNo Rain\nNo Rain\nNo Rain\nNo Rain\nNo Rain\nNo Rain\nModerate Rains\nNo Rain\nModerate Rains\nNo Rain\nNo Rain\nDrizzles\nNo Rain\nHeavy Rains\nNo Rain\nModerate Rains\nNo Rain\nNo Rain\nTEST ACCURACY 0.7662835249042146\n",
          "name": "stdout"
        },
        {
          "output_type": "execute_result",
          "execution_count": 28,
          "data": {
            "text/plain": "Text(0,0.5,'Prediction')"
          },
          "metadata": {}
        },
        {
          "output_type": "display_data",
          "data": {
            "image/png": "[encoded data removed]",
            "text/plain": "<matplotlib.figure.Figure at 0x7f4273d71320>"
          },
          "metadata": {}
        }
      ]
    },
    {
      "metadata": {
        "_uuid": "ede1595f96cb3b21a6b5b27637460b572b7e5201",
        "trusted": true
      },
      "cell_type": "code",
      "source": "\n",
      "execution_count": null,
      "outputs": []
    },
    {
      "metadata": {
        "_uuid": "c891db771bc9409d7741dba841ddaab628bd02b4",
        "trusted": true
      },
      "cell_type": "code",
      "source": "#saving the weights\njoblib.dump(logr,'weights1.joblib')",
      "execution_count": 33,
      "outputs": [
        {
          "output_type": "execute_result",
          "execution_count": 33,
          "data": {
            "text/plain": "['weights1.joblib']"
          },
          "metadata": {}
        }
      ]
    },
    {
      "metadata": {
        "trusted": true,
        "_uuid": "58bcd0ca9c5ffe0829d450282329c2e5555ab977"
      },
      "cell_type": "code",
      "source": "clf = joblib.load('weights.joblib') ",
      "execution_count": 30,
      "outputs": []
    },
    {
      "metadata": {
        "trusted": true
      },
      "cell_type": "code",
      "source": "",
      "execution_count": null,
      "outputs": []
    },
    {
      "metadata": {
        "trusted": true,
        "_uuid": "6af0cb20dedc7fe876976c024ea491bc5dd1dcc1"
      },
      "cell_type": "code",
      "source": "#A single data to check and predict rain type other than the test set\ninput = np.array([[58], [43], [28], [37], [22], [40], [75], [49], [22], [30.35], [10], [10], [10], [14], [4], [21]])\ninput = input.reshape(1, -1)\n#prediction\nprint(classes[int(clf.predict(input))])",
      "execution_count": 31,
      "outputs": [
        {
          "output_type": "stream",
          "text": "No Rain\n",
          "name": "stdout"
        }
      ]
    },
    {
      "metadata": {
        "trusted": true,
        "_uuid": "a904c242f0f27799dbac8d4039cfd631a4126cfb"
      },
      "cell_type": "code",
      "source": "",
      "execution_count": null,
      "outputs": []
    },
    {
      "metadata": {
        "trusted": true,
        "_uuid": "a32bf9184312cb7998aeca40d5eb35d535edf664"
      },
      "cell_type": "code",
      "source": "",
      "execution_count": null,
      "outputs": []
    }
  ],
  "metadata": {
    "kernelspec": {
      "name": "python3",
      "display_name": "Python 3",
      "language": "python"
    },
    "language_info": {
      "mimetype": "text/x-python",
      "nbconvert_exporter": "python",
      "name": "python",
      "pygments_lexer": "ipython3",
      "version": "3.5.4",
      "file_extension": ".py",
      "codemirror_mode": {
        "version": 3,
        "name": "ipython"
      }
    }
  },
  "nbformat": 4,
  "nbformat_minor": 1
}