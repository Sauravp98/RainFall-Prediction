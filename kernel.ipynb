{
 "cells": [
  {
   "cell_type": "code",
   "execution_count": 127,
   "metadata": {
    "_cell_guid": "b1076dfc-b9ad-4769-8c92-a6c4dae69d19",
    "_uuid": "8f2839f25d086af736a60e9eeb907d3b93b6e0e5"
   },
   "outputs": [],
   "source": [
    "import pandas as pd\n",
    "import numpy as np\n",
    "import sklearn as sk\n",
    "from sklearn.learning_curve import learning_curve\n",
    "from sklearn.metrics import explained_variance_score, make_scorer\n",
    "from sklearn.cross_validation import KFold\n",
    "from sklearn.metrics import accuracy_score\n",
    "from sklearn.model_selection import train_test_split\n",
    "from sklearn import metrics, datasets\n",
    "from sklearn.ensemble import RandomForestRegressor\n",
    "from sklearn.datasets import make_regression\n",
    "from sklearn.linear_model import LogisticRegression\n",
    "from sklearn.neural_network import MLPClassifier\n",
    "import matplotlib.pyplot as plt\n",
    "import matplotlib.patches as mpatches"
   ]
  },
  {
   "cell_type": "code",
   "execution_count": 128,
   "metadata": {
    "_cell_guid": "79c7e3d0-c299-4dcb-8224-4455121ee9b0",
    "_uuid": "d629ff2d2480ee46fbb7e2d37f6b5fab8052498a"
   },
   "outputs": [],
   "source": [
    "data = pd.read_csv(\"../input/austin_final.csv\")\n",
    "X = data.drop(['PrecipitationSumInches'], axis=1)\n",
    "Y_temp = data['PrecipitationSumInches']\n",
    "Y_temp = Y_temp.values.reshape(-1, 1)"
   ]
  },
  {
   "cell_type": "code",
   "execution_count": 129,
   "metadata": {
    "_uuid": "db25841936dd018789e60d3f124aea8454571d1f"
   },
   "outputs": [
    {
     "name": "stdout",
     "output_type": "stream",
     "text": [
      "(1044, 17) (1044,)\n",
      "(261, 17) (261,)\n"
     ]
    }
   ],
   "source": [
    "Y= []\n",
    "x1 = pd.DataFrame(columns=X.columns.values)\n",
    "x2 = pd.DataFrame(columns=X.columns.values)\n",
    "x3 = pd.DataFrame(columns=X.columns.values)\n",
    "x4 = pd.DataFrame(columns=X.columns.values)\n",
    "for i in range(Y_temp.size):\n",
    "    if(Y_temp[i]<0.001):\n",
    "        Y.append(1)\n",
    "        x1.loc[i] = X.loc[i]\n",
    "    elif(Y_temp[i]>=0.001 and Y_temp[i]<0.1):\n",
    "        Y.append(2)\n",
    "        x2.loc[i] = X.loc[i]\n",
    "    elif(Y_temp[i]>=0.1 and Y_temp[i]<1.2):\n",
    "        Y.append(3)\n",
    "        x3.loc[i] = X.loc[i]\n",
    "    else:\n",
    "        Y.append(4)\n",
    "        x4.loc[i] = X.loc[i]\n",
    "\n",
    "Y = np.array(Y).reshape(len(Y), )\n",
    "X_train, X_test, y_train, y_test = train_test_split(data, Y, test_size=0.2,shuffle=True)\n",
    "print(X_train.shape, y_train.shape)\n",
    "print(X_test.shape, y_test.shape)"
   ]
  },
  {
   "cell_type": "code",
   "execution_count": 131,
   "metadata": {
    "_uuid": "fe0e8afe481ff54b3227abbfecec7a6c0718b1ee"
   },
   "outputs": [
    {
     "name": "stdout",
     "output_type": "stream",
     "text": [
      "TRAIN ACCURACY 0.9656082544599335\n"
     ]
    },
    {
     "name": "stderr",
     "output_type": "stream",
     "text": [
      "No handles with labels found to put in legend.\n"
     ]
    },
    {
     "data": {
      "image/png": "[encoded data removed]",
      "text/plain": [
       "<Figure size 432x288 with 1 Axes>"
      ]
     },
     "metadata": {
      "needs_background": "light"
     },
     "output_type": "display_data"
    },
    {
     "name": "stdout",
     "output_type": "stream",
     "text": [
      "Drizzles\n",
      "Moderate Rains\n",
      "No Rain\n",
      "No Rain\n",
      "Drizzles\n",
      "Drizzles\n",
      "Drizzles\n",
      "No Rain\n",
      "No Rain\n",
      "Moderate Rains\n",
      "No Rain\n",
      "No Rain\n",
      "No Rain\n",
      "Moderate Rains\n",
      "No Rain\n",
      "No Rain\n",
      "No Rain\n",
      "No Rain\n",
      "Moderate Rains\n",
      "No Rain\n",
      "Moderate Rains\n",
      "No Rain\n",
      "No Rain\n",
      "No Rain\n",
      "No Rain\n",
      "Drizzles\n",
      "Moderate Rains\n",
      "No Rain\n",
      "No Rain\n",
      "Moderate Rains\n",
      "Moderate Rains\n",
      "No Rain\n",
      "No Rain\n",
      "No Rain\n",
      "Drizzles\n",
      "Moderate Rains\n",
      "No Rain\n",
      "No Rain\n",
      "No Rain\n",
      "No Rain\n",
      "Moderate Rains\n",
      "No Rain\n",
      "Moderate Rains\n",
      "No Rain\n",
      "No Rain\n",
      "Moderate Rains\n",
      "No Rain\n",
      "No Rain\n",
      "Drizzles\n",
      "No Rain\n",
      "No Rain\n",
      "Drizzles\n",
      "No Rain\n",
      "No Rain\n",
      "Drizzles\n",
      "No Rain\n",
      "No Rain\n",
      "Drizzles\n",
      "No Rain\n",
      "No Rain\n",
      "No Rain\n",
      "Moderate Rains\n",
      "No Rain\n",
      "No Rain\n",
      "Moderate Rains\n",
      "No Rain\n",
      "No Rain\n",
      "No Rain\n",
      "No Rain\n",
      "Drizzles\n",
      "No Rain\n",
      "No Rain\n",
      "Moderate Rains\n",
      "No Rain\n",
      "Drizzles\n",
      "No Rain\n",
      "No Rain\n",
      "No Rain\n",
      "No Rain\n",
      "No Rain\n",
      "Drizzles\n",
      "No Rain\n",
      "No Rain\n",
      "No Rain\n",
      "No Rain\n",
      "Moderate Rains\n",
      "No Rain\n",
      "No Rain\n",
      "No Rain\n",
      "No Rain\n",
      "Moderate Rains\n",
      "No Rain\n",
      "Moderate Rains\n",
      "No Rain\n",
      "No Rain\n",
      "No Rain\n",
      "Moderate Rains\n",
      "No Rain\n",
      "No Rain\n",
      "Moderate Rains\n",
      "No Rain\n",
      "No Rain\n",
      "No Rain\n",
      "No Rain\n",
      "No Rain\n",
      "No Rain\n",
      "No Rain\n",
      "No Rain\n",
      "Drizzles\n",
      "No Rain\n",
      "Drizzles\n",
      "No Rain\n",
      "No Rain\n",
      "Drizzles\n",
      "Drizzles\n",
      "No Rain\n",
      "Drizzles\n",
      "Drizzles\n",
      "Drizzles\n",
      "No Rain\n",
      "No Rain\n",
      "Drizzles\n",
      "Moderate Rains\n",
      "No Rain\n",
      "No Rain\n",
      "No Rain\n",
      "No Rain\n",
      "Moderate Rains\n",
      "Moderate Rains\n",
      "Moderate Rains\n",
      "Drizzles\n",
      "No Rain\n",
      "No Rain\n",
      "No Rain\n",
      "No Rain\n",
      "No Rain\n",
      "No Rain\n",
      "No Rain\n",
      "Drizzles\n",
      "No Rain\n",
      "No Rain\n",
      "No Rain\n",
      "No Rain\n",
      "No Rain\n",
      "No Rain\n",
      "No Rain\n",
      "No Rain\n",
      "Moderate Rains\n",
      "No Rain\n",
      "No Rain\n",
      "Drizzles\n",
      "No Rain\n",
      "Drizzles\n",
      "Drizzles\n",
      "No Rain\n",
      "No Rain\n",
      "No Rain\n",
      "No Rain\n",
      "No Rain\n",
      "No Rain\n",
      "Moderate Rains\n",
      "No Rain\n",
      "No Rain\n",
      "No Rain\n",
      "No Rain\n",
      "No Rain\n",
      "No Rain\n",
      "Drizzles\n",
      "No Rain\n",
      "No Rain\n",
      "Drizzles\n",
      "Drizzles\n",
      "Drizzles\n",
      "Drizzles\n",
      "Moderate Rains\n",
      "No Rain\n",
      "Drizzles\n",
      "No Rain\n",
      "No Rain\n",
      "No Rain\n",
      "No Rain\n",
      "No Rain\n",
      "No Rain\n",
      "No Rain\n",
      "No Rain\n",
      "Drizzles\n",
      "Drizzles\n",
      "No Rain\n",
      "No Rain\n",
      "Moderate Rains\n",
      "No Rain\n",
      "Drizzles\n",
      "No Rain\n",
      "No Rain\n",
      "No Rain\n",
      "No Rain\n",
      "Moderate Rains\n",
      "No Rain\n",
      "No Rain\n",
      "No Rain\n",
      "No Rain\n",
      "No Rain\n",
      "Drizzles\n",
      "No Rain\n",
      "No Rain\n",
      "Moderate Rains\n",
      "No Rain\n",
      "No Rain\n",
      "No Rain\n",
      "Drizzles\n",
      "No Rain\n",
      "Drizzles\n",
      "No Rain\n",
      "No Rain\n",
      "No Rain\n",
      "No Rain\n",
      "Drizzles\n",
      "Moderate Rains\n",
      "No Rain\n",
      "No Rain\n",
      "No Rain\n",
      "Moderate Rains\n",
      "Moderate Rains\n",
      "No Rain\n",
      "No Rain\n",
      "Drizzles\n",
      "Drizzles\n",
      "No Rain\n",
      "No Rain\n",
      "No Rain\n",
      "No Rain\n",
      "No Rain\n",
      "No Rain\n",
      "No Rain\n",
      "No Rain\n",
      "Drizzles\n",
      "Moderate Rains\n",
      "No Rain\n",
      "No Rain\n",
      "Drizzles\n",
      "No Rain\n",
      "No Rain\n",
      "Moderate Rains\n",
      "Drizzles\n",
      "Moderate Rains\n",
      "No Rain\n",
      "No Rain\n",
      "Drizzles\n",
      "No Rain\n",
      "Drizzles\n",
      "No Rain\n",
      "No Rain\n",
      "No Rain\n",
      "Drizzles\n",
      "No Rain\n",
      "Moderate Rains\n",
      "No Rain\n",
      "Drizzles\n",
      "No Rain\n",
      "Drizzles\n",
      "Moderate Rains\n",
      "TEST ACCURACY 0.9634849688612388\n"
     ]
    },
    {
     "data": {
      "text/plain": [
       "Text(0,0.5,'Prediction')"
      ]
     },
     "execution_count": 131,
     "metadata": {},
     "output_type": "execute_result"
    },
    {
     "data": {
      "image/png": "[encoded data removed]",
      "text/plain": [
       "<Figure size 432x288 with 1 Axes>"
      ]
     },
     "metadata": {
      "needs_background": "light"
     },
     "output_type": "display_data"
    }
   ],
   "source": [
    "#logr = LogisticRegression(multi_class='ovr', solver='liblinear').fit(X_train, y_train)\n",
    "#logr = MLPClassifier(solver='lbfgs', alpha=1e-5,hidden_layer_sizes=(5,2), random_state=1).fit(X_train,y_train)\n",
    "#APPLYING RANDOM FORREST ON THIS DATA GIVES THE BEST ACCURACY\n",
    "logr = RandomForestRegressor(max_depth=2, random_state=0,n_estimators=30).fit(X_train,y_train)\n",
    "print(\"TRAIN ACCURACY\",logr.score(X_train,y_train))\n",
    "train_sizes, train_scores, test_scores = learning_curve(logr, X_train, y_train, n_jobs=-1,train_sizes=np.linspace(.1, 1.0, 5), verbose=0)\n",
    "train_scores_mean = np.mean(train_scores, axis=1)\n",
    "train_scores_std = np.std(train_scores, axis=1)\n",
    "test_scores_mean = np.mean(test_scores, axis=1)\n",
    "test_scores_std = np.std(test_scores, axis=1)    \n",
    "plt.figure()\n",
    "plt.title(\"RandomForestClassifier\")\n",
    "plt.legend(loc=\"best\")\n",
    "plt.xlabel(\"Training examples\")\n",
    "plt.ylabel(\"Score\")\n",
    "plt.gca().invert_yaxis()\n",
    " # box-like grid\n",
    "plt.grid()\n",
    "# plot the std deviation as a transparent range at each training set size\n",
    "plt.fill_between(train_sizes, train_scores_mean - train_scores_std, train_scores_mean + train_scores_std, alpha=0.1, color=\"r\")\n",
    "plt.fill_between(train_sizes, test_scores_mean - test_scores_std, test_scores_mean + test_scores_std, alpha=0.1, color=\"g\")    \n",
    "# plot the average training and test score lines at each training set size\n",
    "plt.plot(train_sizes, train_scores_mean, 'o-', color=\"r\", label=\"Training score\")\n",
    "plt.plot(train_sizes, test_scores_mean, 'o-', color=\"g\", label=\"Cross-validation score\")\n",
    "# sizes the window for readability and displays the plot\n",
    "# shows error from 0 to 1.1\n",
    "plt.ylim(-.1,1.1)\n",
    "plt.show()\n",
    "predictions=logr.predict(X_test)\n",
    "classes = ['None', 'No Rain', 'Drizzles', 'Moderate Rains', 'Heavy Rains']\n",
    "for i in range(len(predictions)):\n",
    "           print(classes[int(predictions[i])])\n",
    "plt.scatter(y_test, predictions)\n",
    "print(\"TEST ACCURACY\",logr.score(X_test,y_test))\n",
    "plt.xlabel(\"True Predict\")\n",
    "plt.ylabel(\"Prediction\")\n",
    "#print(accuracy_score(y_train, , normalize=True, sample_weight=None))"
   ]
  },
  {
   "cell_type": "code",
   "execution_count": 113,
   "metadata": {
    "_uuid": "ede1595f96cb3b21a6b5b27637460b572b7e5201"
   },
   "outputs": [
    {
     "name": "stdout",
     "output_type": "stream",
     "text": [
      "No Rain\n"
     ]
    }
   ],
   "source": [
    "#A single data to check and predict rain type other than the test set\n",
    "input = np.array([[58], [43], [28], [37], [22], [40], [75], [49], [22], [30.35], [10], [10], [10], [14], [4], [21],[0]])\n",
    "input = input.reshape(1, -1)\n",
    "#prediction\n",
    "print(classes[int(logr.predict(input))])\n",
    "\n",
    "x1 = x1.filter(['TempAvgF', 'DewPointAvgF', 'HumidityAvgPercent', 'SeaLevelPressureAvgInches', 'VisibilityAvgMiles', 'WindAvgMPH'], axis=1)\n",
    "x2 = x2.filter(['TempAvgF', 'DewPointAvgF', 'HumidityAvgPercent', 'SeaLevelPressureAvgInches', 'VisibilityAvgMiles', 'WindAvgMPH'], axis=1)\n",
    "x3 = x3.filter(['TempAvgF', 'DewPointAvgF', 'HumidityAvgPercent', 'SeaLevelPressureAvgInches', 'VisibilityAvgMiles', 'WindAvgMPH'], axis=1)\n",
    "x4 = x4.filter(['TempAvgF', 'DewPointAvgF', 'HumidityAvgPercent', 'SeaLevelPressureAvgInches', 'VisibilityAvgMiles', 'WindAvgMPH'], axis=1)\n"
   ]
  },
  {
   "cell_type": "code",
   "execution_count": 114,
   "metadata": {
    "_uuid": "c891db771bc9409d7741dba841ddaab628bd02b4"
   },
   "outputs": [
    {
     "data": {
      "image/png": "[encoded data removed]",
      "text/plain": [
       "<Figure size 432x288 with 6 Axes>"
      ]
     },
     "metadata": {
      "needs_background": "light"
     },
     "output_type": "display_data"
    }
   ],
   "source": [
    "\n",
    "for i in range(6):\n",
    "    plt.subplot(3,2,i+1)\n",
    "    plt.scatter(x1.index.values, x1[x1.columns.values[i]], color='b')\n",
    "    plt.scatter(x2.index.values, x2[x2.columns.values[i]], color='r')\n",
    "    plt.scatter(x3.index.values, x3[x3.columns.values[i]], color='g')\n",
    "    plt.scatter(x4.index.values, x4[x4.columns.values[i]], color='y')\n",
    "    plt.title(x1.columns.values[i])\n",
    "\n",
    "blue_patch = mpatches.Patch(color='blue', label='No rains')\n",
    "red_patch = mpatches.Patch(color='red', label='Drizzles')\n",
    "green_patch = mpatches.Patch(color='green', label='Moderate rains')\n",
    "yellow_patch = mpatches.Patch(color='yellow', label='Heavy rains')\n",
    "plt.legend(handles=[blue_patch, red_patch, green_patch, yellow_patch], bbox_to_anchor=(1.05, 2), loc=2, borderaxespad=0.)\n",
    "plt.show()"
   ]
  },
  {
   "cell_type": "code",
   "execution_count": null,
   "metadata": {
    "_uuid": "f80134546bcb6f8eb9d3a83f12088c5de4baf642"
   },
   "outputs": [],
   "source": []
  },
  {
   "cell_type": "code",
   "execution_count": null,
   "metadata": {
    "_uuid": "462bac25ed5420357bdcc88bc88fe549c554cafb"
   },
   "outputs": [],
   "source": []
  }
 ],
 "metadata": {
  "kernelspec": {
   "display_name": "Python 3",
   "language": "python",
   "name": "python3"
  },
  "language_info": {
   "codemirror_mode": {
    "name": "ipython",
    "version": 3
   },
   "file_extension": ".py",
   "mimetype": "text/x-python",
   "name": "python",
   "nbconvert_exporter": "python",
   "pygments_lexer": "ipython3",
   "version": "3.7.0"
  }
 },
 "nbformat": 4,
 "nbformat_minor": 1
}
