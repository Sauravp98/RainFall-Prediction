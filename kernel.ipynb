{
  "cells": [
    {
      "metadata": {
        "_cell_guid": "b1076dfc-b9ad-4769-8c92-a6c4dae69d19",
        "_uuid": "8f2839f25d086af736a60e9eeb907d3b93b6e0e5",
        "trusted": true
      },
      "cell_type": "code",
      "source": "import pandas as pd\nimport numpy as np\nimport sklearn as sk\nfrom sklearn.learning_curve import learning_curve\nfrom sklearn.metrics import explained_variance_score, make_scorer\nfrom sklearn.cross_validation import KFold\nfrom sklearn.metrics import accuracy_score\nfrom sklearn.model_selection import train_test_split\nfrom sklearn import metrics, datasets\nfrom sklearn.ensemble import RandomForestRegressor\nfrom sklearn.datasets import make_regression\nimport matplotlib.pyplot as plt\nimport matplotlib.patches as mpatches\nfrom sklearn.externals import joblib",
      "execution_count": 5,
      "outputs": []
    },
    {
      "metadata": {
        "_cell_guid": "79c7e3d0-c299-4dcb-8224-4455121ee9b0",
        "_uuid": "d629ff2d2480ee46fbb7e2d37f6b5fab8052498a",
        "trusted": true
      },
      "cell_type": "code",
      "source": "data = pd.read_csv(\"../input/austin_final.csv\")\nX = data.drop(['PrecipitationSumInches'], axis=1)\nY_temp = data['PrecipitationSumInches']\nY_temp = Y_temp.values.reshape(-1, 1)",
      "execution_count": 6,
      "outputs": []
    },
    {
      "metadata": {
        "_uuid": "db25841936dd018789e60d3f124aea8454571d1f",
        "trusted": true
      },
      "cell_type": "code",
      "source": "Y= []\nx1 = pd.DataFrame(columns=X.columns.values)\nx2 = pd.DataFrame(columns=X.columns.values)\nx3 = pd.DataFrame(columns=X.columns.values)\nx4 = pd.DataFrame(columns=X.columns.values)\nfor i in range(Y_temp.size):\n    if(Y_temp[i]<0.001):\n        Y.append(1)\n        x1.loc[i] = X.loc[i]\n    elif(Y_temp[i]>=0.001 and Y_temp[i]<0.1):\n        Y.append(2)\n        x2.loc[i] = X.loc[i]\n    elif(Y_temp[i]>=0.1 and Y_temp[i]<1.2):\n        Y.append(3)\n        x3.loc[i] = X.loc[i]\n    else:\n        Y.append(4)\n        x4.loc[i] = X.loc[i]\n\nY = np.array(Y).reshape(len(Y), )\nX_train, X_test, y_train, y_test = train_test_split(data, Y, test_size=0.2,shuffle=True)\nprint(X_train.shape, y_train.shape)\nprint(X_test.shape, y_test.shape)",
      "execution_count": 7,
      "outputs": [
        {
          "output_type": "stream",
          "text": "(1044, 17) (1044,)\n(261, 17) (261,)\n",
          "name": "stdout"
        }
      ]
    },
    {
      "metadata": {
        "_uuid": "fe0e8afe481ff54b3227abbfecec7a6c0718b1ee",
        "trusted": true
      },
      "cell_type": "code",
      "source": "#logr = LogisticRegression(multi_class='ovr', solver='liblinear').fit(X_train, y_train)\n#logr = MLPClassifier(solver='lbfgs', alpha=1e-5,hidden_layer_sizes=(5,2), random_state=1).fit(X_train,y_train)\n#APPLYING RANDOM FORREST ON THIS DATA GIVES THE BEST ACCURACY\nlogr = RandomForestRegressor(max_depth=2, random_state=0,n_estimators=30).fit(X_train,y_train)\nprint(\"TRAIN ACCURACY\",logr.score(X_train,y_train))\ntrain_sizes, train_scores, test_scores = learning_curve(logr, X_train, y_train, n_jobs=-1,train_sizes=np.linspace(.1, 1.0, 5), verbose=0)\ntrain_scores_mean = np.mean(train_scores, axis=1)\ntrain_scores_std = np.std(train_scores, axis=1)\ntest_scores_mean = np.mean(test_scores, axis=1)\ntest_scores_std = np.std(test_scores, axis=1)    \nplt.figure()\nplt.title(\"RandomForestClassifier\")\nplt.legend(loc=\"best\")\nplt.xlabel(\"Training examples\")\nplt.ylabel(\"Score\")\nplt.gca().invert_yaxis()\n # box-like grid\nplt.grid()\n# plot the std deviation as a transparent range at each training set size\nplt.fill_between(train_sizes, train_scores_mean - train_scores_std, train_scores_mean + train_scores_std, alpha=0.1, color=\"r\")\nplt.fill_between(train_sizes, test_scores_mean - test_scores_std, test_scores_mean + test_scores_std, alpha=0.1, color=\"g\")    \n# plot the average training and test score lines at each training set size\nplt.plot(train_sizes, train_scores_mean, 'o-', color=\"r\", label=\"Training score\")\nplt.plot(train_sizes, test_scores_mean, 'o-', color=\"g\", label=\"Cross-validation score\")\n# sizes the window for readability and displays the plot\n# shows error from 0 to 1.1\nplt.ylim(-.1,1.1)\nplt.show()\npredictions=logr.predict(X_test)\nclasses = ['None', 'No Rain', 'Drizzles', 'Moderate Rains', 'Heavy Rains']\nfor i in range(len(predictions)):\n           print(classes[int(predictions[i])])\nplt.scatter(y_test, predictions)\nprint(\"TEST ACCURACY\",logr.score(X_test,y_test))\nplt.xlabel(\"True Predict\")\nplt.ylabel(\"Prediction\")\n#print(accuracy_score(y_train, , normalize=True, sample_weight=None))",
      "execution_count": 8,
      "outputs": [
        {
          "output_type": "stream",
          "text": "TRAIN ACCURACY 0.9661115518605611\n",
          "name": "stdout"
        },
        {
          "output_type": "stream",
          "text": "No handles with labels found to put in legend.\n",
          "name": "stderr"
        },
        {
          "output_type": "display_data",
          "data": {
            "text/plain": "<Figure size 432x288 with 1 Axes>",
            "image/png": "[encoded data removed]"
          },
          "metadata": {
            "needs_background": "light"
          }
        },
        {
          "output_type": "stream",
          "text": "Drizzles\nDrizzles\nNo Rain\nDrizzles\nNo Rain\nNo Rain\nNo Rain\nDrizzles\nNo Rain\nDrizzles\nModerate Rains\nNo Rain\nDrizzles\nNo Rain\nModerate Rains\nNo Rain\nNo Rain\nDrizzles\nNo Rain\nNo Rain\nNo Rain\nDrizzles\nNo Rain\nModerate Rains\nNo Rain\nModerate Rains\nModerate Rains\nModerate Rains\nNo Rain\nNo Rain\nModerate Rains\nNo Rain\nNo Rain\nNo Rain\nModerate Rains\nNo Rain\nNo Rain\nNo Rain\nNo Rain\nModerate Rains\nDrizzles\nNo Rain\nDrizzles\nDrizzles\nNo Rain\nNo Rain\nNo Rain\nNo Rain\nNo Rain\nNo Rain\nDrizzles\nNo Rain\nNo Rain\nNo Rain\nNo Rain\nNo Rain\nNo Rain\nDrizzles\nModerate Rains\nModerate Rains\nDrizzles\nModerate Rains\nDrizzles\nDrizzles\nNo Rain\nNo Rain\nNo Rain\nNo Rain\nNo Rain\nModerate Rains\nDrizzles\nDrizzles\nNo Rain\nNo Rain\nNo Rain\nDrizzles\nNo Rain\nNo Rain\nNo Rain\nDrizzles\nModerate Rains\nNo Rain\nModerate Rains\nNo Rain\nNo Rain\nNo Rain\nNo Rain\nNo Rain\nNo Rain\nModerate Rains\nNo Rain\nModerate Rains\nNo Rain\nNo Rain\nDrizzles\nDrizzles\nNo Rain\nNo Rain\nModerate Rains\nNo Rain\nModerate Rains\nNo Rain\nNo Rain\nDrizzles\nNo Rain\nNo Rain\nNo Rain\nNo Rain\nNo Rain\nNo Rain\nDrizzles\nNo Rain\nNo Rain\nNo Rain\nNo Rain\nModerate Rains\nNo Rain\nNo Rain\nNo Rain\nNo Rain\nNo Rain\nNo Rain\nNo Rain\nNo Rain\nNo Rain\nModerate Rains\nNo Rain\nNo Rain\nNo Rain\nModerate Rains\nNo Rain\nNo Rain\nNo Rain\nNo Rain\nNo Rain\nNo Rain\nNo Rain\nNo Rain\nNo Rain\nNo Rain\nModerate Rains\nModerate Rains\nNo Rain\nNo Rain\nModerate Rains\nDrizzles\nNo Rain\nDrizzles\nNo Rain\nNo Rain\nModerate Rains\nNo Rain\nModerate Rains\nNo Rain\nNo Rain\nNo Rain\nDrizzles\nNo Rain\nNo Rain\nNo Rain\nNo Rain\nModerate Rains\nNo Rain\nModerate Rains\nNo Rain\nModerate Rains\nNo Rain\nNo Rain\nNo Rain\nDrizzles\nModerate Rains\nModerate Rains\nNo Rain\nNo Rain\nNo Rain\nNo Rain\nNo Rain\nNo Rain\nDrizzles\nModerate Rains\nModerate Rains\nNo Rain\nNo Rain\nNo Rain\nNo Rain\nModerate Rains\nNo Rain\nNo Rain\nNo Rain\nNo Rain\nDrizzles\nNo Rain\nNo Rain\nNo Rain\nNo Rain\nNo Rain\nDrizzles\nNo Rain\nNo Rain\nNo Rain\nNo Rain\nModerate Rains\nNo Rain\nNo Rain\nModerate Rains\nDrizzles\nNo Rain\nNo Rain\nNo Rain\nDrizzles\nNo Rain\nNo Rain\nModerate Rains\nNo Rain\nNo Rain\nDrizzles\nDrizzles\nModerate Rains\nNo Rain\nModerate Rains\nNo Rain\nModerate Rains\nNo Rain\nNo Rain\nNo Rain\nNo Rain\nNo Rain\nNo Rain\nNo Rain\nModerate Rains\nNo Rain\nNo Rain\nNo Rain\nDrizzles\nNo Rain\nDrizzles\nNo Rain\nDrizzles\nDrizzles\nNo Rain\nModerate Rains\nNo Rain\nNo Rain\nNo Rain\nNo Rain\nNo Rain\nNo Rain\nNo Rain\nNo Rain\nModerate Rains\nNo Rain\nNo Rain\nDrizzles\nDrizzles\nModerate Rains\nDrizzles\nNo Rain\nNo Rain\nModerate Rains\nNo Rain\nDrizzles\nTEST ACCURACY 0.962903367005853\n",
          "name": "stdout"
        },
        {
          "output_type": "execute_result",
          "execution_count": 8,
          "data": {
            "text/plain": "Text(0,0.5,'Prediction')"
          },
          "metadata": {}
        },
        {
          "output_type": "display_data",
          "data": {
            "text/plain": "<Figure size 432x288 with 1 Axes>",
            "image/png": "[encoded data removed]"
          },
          "metadata": {
            "needs_background": "light"
          }
        }
      ]
    },
    {
      "metadata": {
        "_uuid": "ede1595f96cb3b21a6b5b27637460b572b7e5201",
        "trusted": true
      },
      "cell_type": "code",
      "source": "\n",
      "execution_count": 9,
      "outputs": [
        {
          "output_type": "stream",
          "text": "No Rain\n",
          "name": "stdout"
        }
      ]
    },
    {
      "metadata": {
        "_uuid": "c891db771bc9409d7741dba841ddaab628bd02b4",
        "trusted": true
      },
      "cell_type": "code",
      "source": "#saving the weights\njoblib.dump(logr,'weights.joblib')",
      "execution_count": 10,
      "outputs": [
        {
          "output_type": "execute_result",
          "execution_count": 10,
          "data": {
            "text/plain": "['weights.joblib']"
          },
          "metadata": {}
        }
      ]
    },
    {
      "metadata": {
        "trusted": true,
        "_uuid": "58bcd0ca9c5ffe0829d450282329c2e5555ab977"
      },
      "cell_type": "code",
      "source": "clf = joblib.load('weights.joblib') ",
      "execution_count": 12,
      "outputs": []
    },
    {
      "metadata": {
        "trusted": true,
        "_uuid": "6af0cb20dedc7fe876976c024ea491bc5dd1dcc1"
      },
      "cell_type": "code",
      "source": "#A single data to check and predict rain type other than the test set\ninput = np.array([[58], [43], [28], [37], [22], [40], [75], [49], [22], [30.35], [10], [10], [10], [14], [4], [21],[0]])\ninput = input.reshape(1, -1)\n#prediction\nprint(classes[int(clf.predict(input))])",
      "execution_count": 14,
      "outputs": [
        {
          "output_type": "stream",
          "text": "No Rain\n",
          "name": "stdout"
        }
      ]
    },
    {
      "metadata": {
        "trusted": true,
        "_uuid": "a904c242f0f27799dbac8d4039cfd631a4126cfb"
      },
      "cell_type": "code",
      "source": "",
      "execution_count": null,
      "outputs": []
    },
    {
      "metadata": {
        "trusted": true,
        "_uuid": "a32bf9184312cb7998aeca40d5eb35d535edf664"
      },
      "cell_type": "code",
      "source": "",
      "execution_count": null,
      "outputs": []
    }
  ],
  "metadata": {
    "kernelspec": {
      "display_name": "Python 3",
      "language": "python",
      "name": "python3"
    },
    "language_info": {
      "name": "python",
      "version": "3.6.6",
      "mimetype": "text/x-python",
      "codemirror_mode": {
        "name": "ipython",
        "version": 3
      },
      "pygments_lexer": "ipython3",
      "nbconvert_exporter": "python",
      "file_extension": ".py"
    }
  },
  "nbformat": 4,
  "nbformat_minor": 1
}